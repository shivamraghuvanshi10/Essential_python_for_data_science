{
 "cells": [
  {
   "cell_type": "markdown",
   "id": "cca6e722",
   "metadata": {},
   "source": [
    "## Assignment_day3\n",
    "\n",
    "## Create a dataframe using np.random.randn function with 5 rows and 4 columns, and performs various operations using pandas library\n"
   ]
  },
  {
   "cell_type": "code",
   "execution_count": 28,
   "id": "a5bd30d0",
   "metadata": {},
   "outputs": [],
   "source": [
    "import pandas as pd \n",
    "import numpy as np"
   ]
  },
  {
   "cell_type": "code",
   "execution_count": 32,
   "id": "281575a3",
   "metadata": {},
   "outputs": [],
   "source": [
    "df = pd.DataFrame(\n",
    "    {\n",
    "        \"one\": pd.Series(np.random.randn(5), index=[\"a\", \"b\", \"c\", \"d\",\"e\"]),\n",
    "        \"two\": pd.Series(np.random.randn(5), index=[\"a\", \"b\", \"c\", \"d\",\"e\"]),\n",
    "        \"three\": pd.Series(np.random.randn(5), index=[\"a\", \"b\", \"c\", \"d\",\"e\"]),\n",
    "        \"four\":pd.Series(np.random.randn(5), index=[\"a\", \"b\", \"c\", \"d\",\"e\"]),\n",
    "    }\n",
    ")\n",
    "\n"
   ]
  },
  {
   "cell_type": "code",
   "execution_count": 33,
   "id": "fb8972a5",
   "metadata": {},
   "outputs": [
    {
     "data": {
      "text/html": [
       "<div>\n",
       "<style scoped>\n",
       "    .dataframe tbody tr th:only-of-type {\n",
       "        vertical-align: middle;\n",
       "    }\n",
       "\n",
       "    .dataframe tbody tr th {\n",
       "        vertical-align: top;\n",
       "    }\n",
       "\n",
       "    .dataframe thead th {\n",
       "        text-align: right;\n",
       "    }\n",
       "</style>\n",
       "<table border=\"1\" class=\"dataframe\">\n",
       "  <thead>\n",
       "    <tr style=\"text-align: right;\">\n",
       "      <th></th>\n",
       "      <th>one</th>\n",
       "      <th>two</th>\n",
       "      <th>three</th>\n",
       "      <th>four</th>\n",
       "    </tr>\n",
       "  </thead>\n",
       "  <tbody>\n",
       "    <tr>\n",
       "      <th>a</th>\n",
       "      <td>-1.114568</td>\n",
       "      <td>1.128808</td>\n",
       "      <td>0.937655</td>\n",
       "      <td>0.736765</td>\n",
       "    </tr>\n",
       "    <tr>\n",
       "      <th>b</th>\n",
       "      <td>1.114471</td>\n",
       "      <td>0.644002</td>\n",
       "      <td>1.232655</td>\n",
       "      <td>-0.425525</td>\n",
       "    </tr>\n",
       "    <tr>\n",
       "      <th>c</th>\n",
       "      <td>-0.398425</td>\n",
       "      <td>-1.059941</td>\n",
       "      <td>-0.851227</td>\n",
       "      <td>0.348391</td>\n",
       "    </tr>\n",
       "    <tr>\n",
       "      <th>d</th>\n",
       "      <td>-0.000070</td>\n",
       "      <td>-0.250159</td>\n",
       "      <td>1.214339</td>\n",
       "      <td>-0.539143</td>\n",
       "    </tr>\n",
       "    <tr>\n",
       "      <th>e</th>\n",
       "      <td>-1.448570</td>\n",
       "      <td>-0.664320</td>\n",
       "      <td>0.856649</td>\n",
       "      <td>1.935997</td>\n",
       "    </tr>\n",
       "  </tbody>\n",
       "</table>\n",
       "</div>"
      ],
      "text/plain": [
       "        one       two     three      four\n",
       "a -1.114568  1.128808  0.937655  0.736765\n",
       "b  1.114471  0.644002  1.232655 -0.425525\n",
       "c -0.398425 -1.059941 -0.851227  0.348391\n",
       "d -0.000070 -0.250159  1.214339 -0.539143\n",
       "e -1.448570 -0.664320  0.856649  1.935997"
      ]
     },
     "execution_count": 33,
     "metadata": {},
     "output_type": "execute_result"
    }
   ],
   "source": [
    "df"
   ]
  },
  {
   "cell_type": "code",
   "execution_count": 34,
   "id": "60ac3b55",
   "metadata": {},
   "outputs": [],
   "source": [
    "row = df.iloc[1]"
   ]
  },
  {
   "cell_type": "code",
   "execution_count": 35,
   "id": "fada7d59",
   "metadata": {},
   "outputs": [],
   "source": [
    "column = df[\"two\"]"
   ]
  },
  {
   "cell_type": "code",
   "execution_count": 36,
   "id": "037157df",
   "metadata": {},
   "outputs": [
    {
     "data": {
      "text/html": [
       "<div>\n",
       "<style scoped>\n",
       "    .dataframe tbody tr th:only-of-type {\n",
       "        vertical-align: middle;\n",
       "    }\n",
       "\n",
       "    .dataframe tbody tr th {\n",
       "        vertical-align: top;\n",
       "    }\n",
       "\n",
       "    .dataframe thead th {\n",
       "        text-align: right;\n",
       "    }\n",
       "</style>\n",
       "<table border=\"1\" class=\"dataframe\">\n",
       "  <thead>\n",
       "    <tr style=\"text-align: right;\">\n",
       "      <th></th>\n",
       "      <th>one</th>\n",
       "      <th>two</th>\n",
       "      <th>three</th>\n",
       "      <th>four</th>\n",
       "    </tr>\n",
       "  </thead>\n",
       "  <tbody>\n",
       "    <tr>\n",
       "      <th>a</th>\n",
       "      <td>-2.229039</td>\n",
       "      <td>0.484807</td>\n",
       "      <td>-0.295000</td>\n",
       "      <td>1.162290</td>\n",
       "    </tr>\n",
       "    <tr>\n",
       "      <th>b</th>\n",
       "      <td>0.000000</td>\n",
       "      <td>0.000000</td>\n",
       "      <td>0.000000</td>\n",
       "      <td>0.000000</td>\n",
       "    </tr>\n",
       "    <tr>\n",
       "      <th>c</th>\n",
       "      <td>-1.512896</td>\n",
       "      <td>-1.703943</td>\n",
       "      <td>-2.083882</td>\n",
       "      <td>0.773915</td>\n",
       "    </tr>\n",
       "    <tr>\n",
       "      <th>d</th>\n",
       "      <td>-1.114541</td>\n",
       "      <td>-0.894161</td>\n",
       "      <td>-0.018315</td>\n",
       "      <td>-0.113618</td>\n",
       "    </tr>\n",
       "    <tr>\n",
       "      <th>e</th>\n",
       "      <td>-2.563041</td>\n",
       "      <td>-1.308322</td>\n",
       "      <td>-0.376006</td>\n",
       "      <td>2.361521</td>\n",
       "    </tr>\n",
       "  </tbody>\n",
       "</table>\n",
       "</div>"
      ],
      "text/plain": [
       "        one       two     three      four\n",
       "a -2.229039  0.484807 -0.295000  1.162290\n",
       "b  0.000000  0.000000  0.000000  0.000000\n",
       "c -1.512896 -1.703943 -2.083882  0.773915\n",
       "d -1.114541 -0.894161 -0.018315 -0.113618\n",
       "e -2.563041 -1.308322 -0.376006  2.361521"
      ]
     },
     "execution_count": 36,
     "metadata": {},
     "output_type": "execute_result"
    }
   ],
   "source": [
    "df.sub(row, axis=\"columns\")"
   ]
  },
  {
   "cell_type": "code",
   "execution_count": 37,
   "id": "3847f40a",
   "metadata": {},
   "outputs": [
    {
     "data": {
      "text/html": [
       "<div>\n",
       "<style scoped>\n",
       "    .dataframe tbody tr th:only-of-type {\n",
       "        vertical-align: middle;\n",
       "    }\n",
       "\n",
       "    .dataframe tbody tr th {\n",
       "        vertical-align: top;\n",
       "    }\n",
       "\n",
       "    .dataframe thead th {\n",
       "        text-align: right;\n",
       "    }\n",
       "</style>\n",
       "<table border=\"1\" class=\"dataframe\">\n",
       "  <thead>\n",
       "    <tr style=\"text-align: right;\">\n",
       "      <th></th>\n",
       "      <th>one</th>\n",
       "      <th>two</th>\n",
       "      <th>three</th>\n",
       "      <th>four</th>\n",
       "    </tr>\n",
       "  </thead>\n",
       "  <tbody>\n",
       "    <tr>\n",
       "      <th>a</th>\n",
       "      <td>-2.229039</td>\n",
       "      <td>0.484807</td>\n",
       "      <td>-0.295000</td>\n",
       "      <td>1.162290</td>\n",
       "    </tr>\n",
       "    <tr>\n",
       "      <th>b</th>\n",
       "      <td>0.000000</td>\n",
       "      <td>0.000000</td>\n",
       "      <td>0.000000</td>\n",
       "      <td>0.000000</td>\n",
       "    </tr>\n",
       "    <tr>\n",
       "      <th>c</th>\n",
       "      <td>-1.512896</td>\n",
       "      <td>-1.703943</td>\n",
       "      <td>-2.083882</td>\n",
       "      <td>0.773915</td>\n",
       "    </tr>\n",
       "    <tr>\n",
       "      <th>d</th>\n",
       "      <td>-1.114541</td>\n",
       "      <td>-0.894161</td>\n",
       "      <td>-0.018315</td>\n",
       "      <td>-0.113618</td>\n",
       "    </tr>\n",
       "    <tr>\n",
       "      <th>e</th>\n",
       "      <td>-2.563041</td>\n",
       "      <td>-1.308322</td>\n",
       "      <td>-0.376006</td>\n",
       "      <td>2.361521</td>\n",
       "    </tr>\n",
       "  </tbody>\n",
       "</table>\n",
       "</div>"
      ],
      "text/plain": [
       "        one       two     three      four\n",
       "a -2.229039  0.484807 -0.295000  1.162290\n",
       "b  0.000000  0.000000  0.000000  0.000000\n",
       "c -1.512896 -1.703943 -2.083882  0.773915\n",
       "d -1.114541 -0.894161 -0.018315 -0.113618\n",
       "e -2.563041 -1.308322 -0.376006  2.361521"
      ]
     },
     "execution_count": 37,
     "metadata": {},
     "output_type": "execute_result"
    }
   ],
   "source": [
    "df.sub(row, axis=1)"
   ]
  },
  {
   "cell_type": "code",
   "execution_count": 38,
   "id": "4fd037fc",
   "metadata": {},
   "outputs": [
    {
     "data": {
      "text/html": [
       "<div>\n",
       "<style scoped>\n",
       "    .dataframe tbody tr th:only-of-type {\n",
       "        vertical-align: middle;\n",
       "    }\n",
       "\n",
       "    .dataframe tbody tr th {\n",
       "        vertical-align: top;\n",
       "    }\n",
       "\n",
       "    .dataframe thead th {\n",
       "        text-align: right;\n",
       "    }\n",
       "</style>\n",
       "<table border=\"1\" class=\"dataframe\">\n",
       "  <thead>\n",
       "    <tr style=\"text-align: right;\">\n",
       "      <th></th>\n",
       "      <th>one</th>\n",
       "      <th>two</th>\n",
       "      <th>three</th>\n",
       "      <th>four</th>\n",
       "    </tr>\n",
       "  </thead>\n",
       "  <tbody>\n",
       "    <tr>\n",
       "      <th>a</th>\n",
       "      <td>-2.243377</td>\n",
       "      <td>0.0</td>\n",
       "      <td>-0.191154</td>\n",
       "      <td>-0.392043</td>\n",
       "    </tr>\n",
       "    <tr>\n",
       "      <th>b</th>\n",
       "      <td>0.470469</td>\n",
       "      <td>0.0</td>\n",
       "      <td>0.588653</td>\n",
       "      <td>-1.069526</td>\n",
       "    </tr>\n",
       "    <tr>\n",
       "      <th>c</th>\n",
       "      <td>0.661516</td>\n",
       "      <td>0.0</td>\n",
       "      <td>0.208714</td>\n",
       "      <td>1.408331</td>\n",
       "    </tr>\n",
       "    <tr>\n",
       "      <th>d</th>\n",
       "      <td>0.250089</td>\n",
       "      <td>0.0</td>\n",
       "      <td>1.464498</td>\n",
       "      <td>-0.288984</td>\n",
       "    </tr>\n",
       "    <tr>\n",
       "      <th>e</th>\n",
       "      <td>-0.784250</td>\n",
       "      <td>0.0</td>\n",
       "      <td>1.520969</td>\n",
       "      <td>2.600317</td>\n",
       "    </tr>\n",
       "  </tbody>\n",
       "</table>\n",
       "</div>"
      ],
      "text/plain": [
       "        one  two     three      four\n",
       "a -2.243377  0.0 -0.191154 -0.392043\n",
       "b  0.470469  0.0  0.588653 -1.069526\n",
       "c  0.661516  0.0  0.208714  1.408331\n",
       "d  0.250089  0.0  1.464498 -0.288984\n",
       "e -0.784250  0.0  1.520969  2.600317"
      ]
     },
     "execution_count": 38,
     "metadata": {},
     "output_type": "execute_result"
    }
   ],
   "source": [
    "df.sub(column, axis=\"index\")"
   ]
  },
  {
   "cell_type": "code",
   "execution_count": 39,
   "id": "a18884c8",
   "metadata": {},
   "outputs": [
    {
     "data": {
      "text/html": [
       "<div>\n",
       "<style scoped>\n",
       "    .dataframe tbody tr th:only-of-type {\n",
       "        vertical-align: middle;\n",
       "    }\n",
       "\n",
       "    .dataframe tbody tr th {\n",
       "        vertical-align: top;\n",
       "    }\n",
       "\n",
       "    .dataframe thead th {\n",
       "        text-align: right;\n",
       "    }\n",
       "</style>\n",
       "<table border=\"1\" class=\"dataframe\">\n",
       "  <thead>\n",
       "    <tr style=\"text-align: right;\">\n",
       "      <th></th>\n",
       "      <th>one</th>\n",
       "      <th>two</th>\n",
       "      <th>three</th>\n",
       "      <th>four</th>\n",
       "    </tr>\n",
       "  </thead>\n",
       "  <tbody>\n",
       "    <tr>\n",
       "      <th>a</th>\n",
       "      <td>-2.243377</td>\n",
       "      <td>0.0</td>\n",
       "      <td>-0.191154</td>\n",
       "      <td>-0.392043</td>\n",
       "    </tr>\n",
       "    <tr>\n",
       "      <th>b</th>\n",
       "      <td>0.470469</td>\n",
       "      <td>0.0</td>\n",
       "      <td>0.588653</td>\n",
       "      <td>-1.069526</td>\n",
       "    </tr>\n",
       "    <tr>\n",
       "      <th>c</th>\n",
       "      <td>0.661516</td>\n",
       "      <td>0.0</td>\n",
       "      <td>0.208714</td>\n",
       "      <td>1.408331</td>\n",
       "    </tr>\n",
       "    <tr>\n",
       "      <th>d</th>\n",
       "      <td>0.250089</td>\n",
       "      <td>0.0</td>\n",
       "      <td>1.464498</td>\n",
       "      <td>-0.288984</td>\n",
       "    </tr>\n",
       "    <tr>\n",
       "      <th>e</th>\n",
       "      <td>-0.784250</td>\n",
       "      <td>0.0</td>\n",
       "      <td>1.520969</td>\n",
       "      <td>2.600317</td>\n",
       "    </tr>\n",
       "  </tbody>\n",
       "</table>\n",
       "</div>"
      ],
      "text/plain": [
       "        one  two     three      four\n",
       "a -2.243377  0.0 -0.191154 -0.392043\n",
       "b  0.470469  0.0  0.588653 -1.069526\n",
       "c  0.661516  0.0  0.208714  1.408331\n",
       "d  0.250089  0.0  1.464498 -0.288984\n",
       "e -0.784250  0.0  1.520969  2.600317"
      ]
     },
     "execution_count": 39,
     "metadata": {},
     "output_type": "execute_result"
    }
   ],
   "source": [
    "df.sub(column, axis=0)"
   ]
  },
  {
   "cell_type": "code",
   "execution_count": 44,
   "id": "b9b5e700",
   "metadata": {},
   "outputs": [
    {
     "data": {
      "text/plain": [
       "0    0\n",
       "1    1\n",
       "2    2\n",
       "3    3\n",
       "4    4\n",
       "5    5\n",
       "6    6\n",
       "7    7\n",
       "8    8\n",
       "9    9\n",
       "dtype: int32"
      ]
     },
     "execution_count": 44,
     "metadata": {},
     "output_type": "execute_result"
    }
   ],
   "source": [
    "s = pd.Series(np.arange(10))\n",
    "s"
   ]
  },
  {
   "cell_type": "code",
   "execution_count": null,
   "id": "58ef0232",
   "metadata": {},
   "outputs": [],
   "source": []
  }
 ],
 "metadata": {
  "kernelspec": {
   "display_name": "Python 3",
   "language": "python",
   "name": "python3"
  },
  "language_info": {
   "codemirror_mode": {
    "name": "ipython",
    "version": 3
   },
   "file_extension": ".py",
   "mimetype": "text/x-python",
   "name": "python",
   "nbconvert_exporter": "python",
   "pygments_lexer": "ipython3",
   "version": "3.8.8"
  }
 },
 "nbformat": 4,
 "nbformat_minor": 5
}
