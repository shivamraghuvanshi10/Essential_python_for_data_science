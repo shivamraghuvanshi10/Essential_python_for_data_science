{
 "cells": [
  {
   "cell_type": "markdown",
   "id": "df689513",
   "metadata": {},
   "source": [
    "### Assignment for Day 2:\n",
    "\n",
    "1. Write a Python program to print the even numbers from a given list."
   ]
  },
  {
   "cell_type": "code",
   "execution_count": 61,
   "id": "e2cdd1bc",
   "metadata": {},
   "outputs": [
    {
     "name": "stdout",
     "output_type": "stream",
     "text": [
      "10\n",
      "4\n",
      "66\n",
      "66\n",
      "72\n",
      "88\n",
      "92\n",
      "52\n",
      "62\n",
      "758\n",
      "858\n"
     ]
    }
   ],
   "source": [
    "# Python program to print Even Numbers in a List\n",
    "\n",
    "# list of numbers\n",
    "list1 = [10, 21, 4, 45, 66, 93, 25, 66, 72, 88, 92, 52, 62, 758, 858]\n",
    "\n",
    "# iterating each number in list\n",
    "for num in list1:\n",
    "\n",
    "# checking condition\n",
    "    if num % 2 ==0:\n",
    "     print(num)\n"
   ]
  },
  {
   "cell_type": "code",
   "execution_count": null,
   "id": "efdd93b1",
   "metadata": {},
   "outputs": [],
   "source": []
  }
 ],
 "metadata": {
  "kernelspec": {
   "display_name": "Python 3",
   "language": "python",
   "name": "python3"
  },
  "language_info": {
   "codemirror_mode": {
    "name": "ipython",
    "version": 3
   },
   "file_extension": ".py",
   "mimetype": "text/x-python",
   "name": "python",
   "nbconvert_exporter": "python",
   "pygments_lexer": "ipython3",
   "version": "3.8.8"
  }
 },
 "nbformat": 4,
 "nbformat_minor": 5
}
