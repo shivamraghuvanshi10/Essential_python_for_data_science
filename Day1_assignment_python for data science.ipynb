{
 "cells": [
  {
   "cell_type": "code",
   "execution_count": null,
   "id": "5f9002ae",
   "metadata": {},
   "outputs": [],
   "source": [
    "principle = int(input())\n",
    "x = float(input()) \n",
    "rate_of_interest = x/100\n",
    "time= float(input())\n",
    "simple_interest = principle * rate_of_interest * time/100\n",
    "print(\"Simple interest is =\" , simple_interest )"
   ]
  }
 ],
 "metadata": {
  "kernelspec": {
   "display_name": "Python 3",
   "language": "python",
   "name": "python3"
  },
  "language_info": {
   "codemirror_mode": {
    "name": "ipython",
    "version": 3
   },
   "file_extension": ".py",
   "mimetype": "text/x-python",
   "name": "python",
   "nbconvert_exporter": "python",
   "pygments_lexer": "ipython3",
   "version": "3.8.8"
  }
 },
 "nbformat": 4,
 "nbformat_minor": 5
}
